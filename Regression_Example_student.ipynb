{
  "nbformat": 4,
  "nbformat_minor": 0,
  "metadata": {
    "colab": {
      "provenance": []
    },
    "kernelspec": {
      "name": "python3",
      "display_name": "Python 3"
    },
    "language_info": {
      "name": "python"
    }
  },
  "cells": [
    {
      "cell_type": "code",
      "source": [
        "import matplotlib.pyplot as plt\n",
        "import numpy as np\n",
        "import pandas as pd\n",
        "from sklearn.metrics import accuracy_score"
      ],
      "metadata": {
        "id": "UE0lJFoUb11F"
      },
      "execution_count": 6,
      "outputs": []
    },
    {
      "cell_type": "code",
      "source": [
        "### ----------------------------------------\n",
        "### 1. DATA GENERATION\n",
        "### ----------------------------------------\n",
        "\n",
        "x_train, x_test, y_train, y_test = np.load('regression_data.npy', allow_pickle=True)\n",
        "\n",
        "print(x_train.shape, x_test.shape, y_train.shape, y_test.shape)\n",
        "\n",
        "train_data = np.hstack((x_train, np.ones((x_train.shape[0], 1))))\n",
        "print(train_data.shape)\n",
        "train_data = train_data.T\n",
        "test_data = np.hstack((x_test, np.ones((x_test.shape[0], 1))))\n",
        "print(test_data.shape)\n",
        "test_data = test_data.T\n"
      ],
      "metadata": {
        "id": "iSJ8kK5vb4ME",
        "colab": {
          "base_uri": "https://localhost:8080/"
        },
        "outputId": "af65924b-11e7-406e-ad0d-b271abfd1338"
      },
      "execution_count": 20,
      "outputs": [
        {
          "output_type": "stream",
          "name": "stdout",
          "text": [
            "(750, 1) (250, 1) (750,) (250,)\n",
            "(750, 2)\n",
            "(250, 2)\n"
          ]
        }
      ]
    },
    {
      "cell_type": "code",
      "source": [
        "y_train = y_train.reshape((750, )) # the shape of y_train is different from that of x_train, need to reshape\n",
        "y_test = y_test.reshape((250, ))   # the shape of y_test is different from that of x_test, need to reshape\n",
        "plt.plot(x_train, y_train, '.')"
      ],
      "metadata": {
        "colab": {
          "base_uri": "https://localhost:8080/",
          "height": 447
        },
        "id": "zT60gEChb7sp",
        "outputId": "1ee63e72-f4a9-4064-e432-8df5003f9601"
      },
      "execution_count": 10,
      "outputs": [
        {
          "output_type": "execute_result",
          "data": {
            "text/plain": [
              "[<matplotlib.lines.Line2D at 0x7c610ed29710>]"
            ]
          },
          "metadata": {},
          "execution_count": 10
        },
        {
          "output_type": "display_data",
          "data": {
            "text/plain": [
              "<Figure size 640x480 with 1 Axes>"
            ],
            "image/png": "[encoded data removed]"
          },
          "metadata": {}
        }
      ]
    },
    {
      "cell_type": "code",
      "source": [
        "#Train your model\n",
        "#Pseudo code:\n",
        "#1. Random initialize the weights, intercepts of the linear model\n",
        "#for i in range(iteration)\n",
        "\n",
        "#2. Feed foward the training data into the model, get the output prediction\n",
        "#3. Calculating training loss by Mean Square Error of predcition and ground truth data\n",
        "#4. Calculating the gradients\n",
        "#5. Updating the weights and intercepts by the gradients * learning rate\n",
        "#End of training"
      ],
      "metadata": {
        "id": "IsPMgHJXb7-m"
      },
      "execution_count": 11,
      "outputs": []
    },
    {
      "cell_type": "code",
      "source": [
        "weight = np.random.randn(2)\n",
        "print(weight.shape)\n",
        "print(weight)"
      ],
      "metadata": {
        "colab": {
          "base_uri": "https://localhost:8080/"
        },
        "id": "abEDHEqLb8A0",
        "outputId": "b9f9898c-238c-44e1-a889-b2605434c260"
      },
      "execution_count": 23,
      "outputs": [
        {
          "output_type": "stream",
          "name": "stdout",
          "text": [
            "(2,)\n",
            "[0.69822331 0.39348539]\n"
          ]
        }
      ]
    },
    {
      "cell_type": "markdown",
      "source": [
        "Fill in the Blank Code"
      ],
      "metadata": {
        "id": "44TG0VJu2E1k"
      }
    },
    {
      "cell_type": "code",
      "source": [
        "def linear_regression_train(x_train, y_train):\n",
        "    \"\"\"\n",
        "    Performs linear regression using gradient descent optimization.\n",
        "    \"\"\"\n",
        "\n",
        "    # Initialize weight parameters (slope and intercept) randomly\n",
        "    weight = None  # <-- Use np.random.randn(2) to initialize randomly\n",
        "\n",
        "    iterations = 7000  # Total number of training iterations\n",
        "    lr = 1e-3  # Learning rate\n",
        "\n",
        "    # Initialize an array to store loss values at each iteration\n",
        "    loss = np.zeros((iterations, ))\n",
        "\n",
        "    # Start iterative optimization process\n",
        "    for i in range(iterations):\n",
        "\n",
        "        y_pred = None  # <-- Compute predicted output based on the linear equation y = mx + b (Equation 4.1)\n",
        "\n",
        "        loss[i] = None  # Calculate the mean squared error loss (Equation 4.11)\n",
        "\n",
        "        # Compute gradient updates to minimize loss\n",
        "        tmp = y_pred - y_train\n",
        "        m_gradient = None  # <-- Compute gradient of weight (Equation 4.12)\n",
        "        b_gradient = None  # <-- Compute gradient of bias\n",
        "\n",
        "        # Update weight parameters using the computed gradients\n",
        "        weight[0] -= None  # <-- Apply gradient descent update for weight[0]\n",
        "        weight[1] -= None  # <-- Apply gradient descent update for weight[1]\n",
        "\n",
        "    return weight, loss\n",
        "\n",
        "# Train the model and obtain optimized weight parameters and loss values\n",
        "weight, loss = None  # <-- Call linear_regression_train() with train_data and y_train\n",
        "\n",
        "# Compute the predicted result for test data\n",
        "y_pred = None  # <-- Compute using np.dot() with test_data\n",
        "\n"
      ],
      "metadata": {
        "id": "7wNvbZno1YdK"
      },
      "execution_count": null,
      "outputs": []
    },
    {
      "cell_type": "code",
      "source": [
        "# Plot the predicted results\n",
        "plt.plot(x_test, y_pred, '.')\n",
        "plt.plot(x_test, y_test, '.')\n",
        "plt.legend(['Prediction', 'Ground Truth'])\n",
        "plt.savefig('linear_result.jpg')\n",
        "plt.show()\n"
      ],
      "metadata": {
        "id": "5Jrpw7RL0USN"
      },
      "execution_count": null,
      "outputs": []
    },
    {
      "cell_type": "code",
      "source": [
        "\n",
        "# Define a function to visualize the learning curve with loss data\n",
        "def learning_curve_fig(loss):\n",
        "    plt.title(\"Training Loss Curve\")\n",
        "    plt.xlabel(\"Iteration\")\n",
        "    plt.ylabel(\"Loss\")\n",
        "    plt.plot(None, linewidth=4, color='red')  # <-- Plot loss data\n",
        "    plt.savefig(\"linear_training_loss.jpg\")\n",
        "    plt.show()\n",
        "\n",
        "# Plot the learning curve of the training\n",
        "learning_curve_fig(None)  # <-- Pass the loss data\n",
        "\n",
        "# Compute Mean Square Error (MSE) using Equation 4.20\n",
        "mse = None\n",
        "print(f'MSE: {mse}')\n",
        "\n",
        "# Display final model parameters (weights and intercept)\n",
        "print(f'Weights (m): {None}')  # <-- Print weight[0]\n",
        "print(f'Intercept (b): {None}')  # <-- Print weight[1]"
      ],
      "metadata": {
        "id": "eNntZnhe0ZwR"
      },
      "execution_count": null,
      "outputs": []
    },
    {
      "cell_type": "markdown",
      "source": [
        "**Assignment**"
      ],
      "metadata": {
        "id": "0H3fbEym1wVM"
      }
    },
    {
      "cell_type": "markdown",
      "source": [
        "1. Ridge Regression (Regularized Least Squares)\n",
        "Refer to Equation 4.27"
      ],
      "metadata": {
        "id": "XSFY4Its1goy"
      }
    },
    {
      "cell_type": "code",
      "source": [],
      "metadata": {
        "id": "ShbjNxk31sWd"
      },
      "execution_count": null,
      "outputs": []
    },
    {
      "cell_type": "markdown",
      "source": [
        "2. Bayesian Linear Regression\n",
        "Refer to Equation 4.33"
      ],
      "metadata": {
        "id": "wcu5cZVE1nA_"
      }
    },
    {
      "cell_type": "code",
      "source": [],
      "metadata": {
        "id": "A6niYhjZ0bfR"
      },
      "execution_count": null,
      "outputs": []
    },
    {
      "cell_type": "code",
      "source": [],
      "metadata": {
        "id": "9MjUIXujQUfp"
      },
      "execution_count": null,
      "outputs": []
    }
  ]
}