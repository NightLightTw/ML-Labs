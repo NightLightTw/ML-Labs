{
 "cells": [
  {
   "cell_type": "code",
   "execution_count": 11,
   "metadata": {},
   "outputs": [],
   "source": [
    "import numpy as np"
   ]
  },
  {
   "cell_type": "code",
   "execution_count": 12,
   "metadata": {},
   "outputs": [],
   "source": [
    "# TODO: 1. Define the activation function\n",
    "def tanh(x):\n",
    "    return (np.exp(x) - np.exp(-x)) / (np.exp(x) + np.exp(-x))\n",
    "\n",
    "def hard_tanh(x):\n",
    "    return np.maximum(-1, np.minimum(1, x))\n",
    "\n",
    "def softplus(x):\n",
    "    return np.log(1 + np.exp(x))\n",
    "\n",
    "def relu(x):\n",
    "    return np.maximum(0, x)\n",
    "\n",
    "def leaky_relu(x, alpha=0.1):\n",
    "    return np.where(x > 0, x, alpha * x)"
   ]
  },
  {
   "cell_type": "code",
   "execution_count": null,
   "metadata": {},
   "outputs": [],
   "source": [
    "def test_activation(activation_function):\n",
    "    # TODO: 2. Change the Activation Function to Test\n",
    "    activation_function = activation_function  # <-- Change this to test others \n",
    "\n",
    "    # Input Vector x (3 features + bias x0)\n",
    "    x_raw = np.array([[0.5], [0.2], [0.1]])  # (3, 1)\n",
    "    x = np.vstack(([1.0], x_raw))           # x0 = 1 added for bias -> (4, 1)\n",
    "\n",
    "    # Define Fixed Weights (No randomness)\n",
    "    W1 = np.array([\n",
    "        [0.1,  0.1,  0.2,  0.3],\n",
    "        [0.2, -0.3,  0.4,  0.1],\n",
    "        [0.05, 0.2, -0.2, 0.1],\n",
    "        [0.0,  0.3, -0.1, 0.2]\n",
    "    ])  # Shape: (4 hidden, 4 input incl. bias)\n",
    "\n",
    "    W2 = np.array([\n",
    "        [0.2,  0.3, -0.1, 0.5,  0.1],\n",
    "        [-0.2, 0.4,  0.3, -0.1, 0.2]\n",
    "    ])  # Shape: (2 output, 5 hidden incl. z0 bias)\n",
    "    \n",
    "    # TODO: 4. Implement Forward Pass\n",
    "    # Step 1: Compute pre-activation\n",
    "    a1 = W1 @ x\n",
    "\n",
    "    # Step 2: Apply activation function\n",
    "    z1 = activation_function(a1)\n",
    "\n",
    "    # Step 3: Add bias node z0 = 1 to hidden activations\n",
    "    z1_aug = np.vstack(([1.0], z1))  # shape (5, 1)\n",
    "\n",
    "    # Step 4: Compute output y\n",
    "    y = W2 @ z1_aug\n",
    "\n",
    "    # Print the results\n",
    "    print(\"=== Activation Function:\", activation_function.__name__, \"===\")\n",
    "    print(\"Input x (with bias):\\n\", x.T)\n",
    "    print(\"Hidden pre-activation a1:\\n\", a1.T)\n",
    "    print(\"Hidden activation z1:\\n\", z1.T)\n",
    "    print(\"Hidden layer with bias z1_aug:\\n\", z1_aug.T)\n",
    "    print(\"Final output y:\\n\", y.T)"
   ]
  },
  {
   "cell_type": "code",
   "execution_count": null,
   "metadata": {},
   "outputs": [
    {
     "name": "stdout",
     "output_type": "stream",
     "text": [
      "=== Activation Function: tanh ===\n",
      "Input x (with bias):\n",
      " [[1.  0.5 0.2 0.1]]\n",
      "Hidden pre-activation a1:\n",
      " [[0.22 0.14 0.12 0.15]]\n",
      "Hidden activation z1:\n",
      " [[0.21651806 0.13909245 0.1194273  0.14888503]]\n",
      "Hidden layer with bias z1_aug:\n",
      " [[1.         0.21651806 0.13909245 0.1194273  0.14888503]]\n",
      "Final output y:\n",
      " [[ 0.32564833 -0.05383076]]\n"
     ]
    }
   ],
   "source": [
    "test_activation(tanh)"
   ]
  },
  {
   "cell_type": "code",
   "execution_count": 15,
   "metadata": {},
   "outputs": [
    {
     "name": "stdout",
     "output_type": "stream",
     "text": [
      "=== Activation Function: hard_tanh ===\n",
      "Input x (with bias):\n",
      " [[1.  0.5 0.2 0.1]]\n",
      "Hidden pre-activation a1:\n",
      " [[0.22 0.14 0.12 0.15]]\n",
      "Hidden activation z1:\n",
      " [[0.22 0.14 0.12 0.15]]\n",
      "Hidden layer with bias z1_aug:\n",
      " [[1.   0.22 0.14 0.12 0.15]]\n",
      "Final output y:\n",
      " [[ 0.327 -0.052]]\n"
     ]
    }
   ],
   "source": [
    "test_activation(hard_tanh)"
   ]
  },
  {
   "cell_type": "code",
   "execution_count": 16,
   "metadata": {},
   "outputs": [
    {
     "name": "stdout",
     "output_type": "stream",
     "text": [
      "=== Activation Function: softplus ===\n",
      "Input x (with bias):\n",
      " [[1.  0.5 0.2 0.1]]\n",
      "Hidden pre-activation a1:\n",
      " [[0.22 0.14 0.12 0.15]]\n",
      "Hidden activation z1:\n",
      " [[0.80918502 0.76559518 0.7549461  0.77095705]]\n",
      "Hidden layer with bias z1_aug:\n",
      " [[1.         0.80918502 0.76559518 0.7549461  0.77095705]]\n",
      "Final output y:\n",
      " [[0.82076474 0.43204936]]\n"
     ]
    }
   ],
   "source": [
    "test_activation(softplus)"
   ]
  },
  {
   "cell_type": "code",
   "execution_count": 17,
   "metadata": {},
   "outputs": [
    {
     "name": "stdout",
     "output_type": "stream",
     "text": [
      "=== Activation Function: relu ===\n",
      "Input x (with bias):\n",
      " [[1.  0.5 0.2 0.1]]\n",
      "Hidden pre-activation a1:\n",
      " [[0.22 0.14 0.12 0.15]]\n",
      "Hidden activation z1:\n",
      " [[0.22 0.14 0.12 0.15]]\n",
      "Hidden layer with bias z1_aug:\n",
      " [[1.   0.22 0.14 0.12 0.15]]\n",
      "Final output y:\n",
      " [[ 0.327 -0.052]]\n"
     ]
    }
   ],
   "source": [
    "test_activation(relu)"
   ]
  },
  {
   "cell_type": "markdown",
   "metadata": {},
   "source": [
    "# Manually calculate the relu\n",
    "input = [1.  0.5 0.2 0.1]\n",
    "\n",
    "W1 = \n",
    "    [0.1,  0.1,  0.2,  0.3],\n",
    "    [0.2, -0.3,  0.4,  0.1],\n",
    "    [0.05, 0.2, -0.2, 0.1],\n",
    "    [0.0,  0.3, -0.1, 0.2]\n",
    "\n",
    "W2 =\n",
    "    [0.2,  0.3, -0.1, 0.5,  0.1],\n",
    "    [-0.2, 0.4,  0.3, -0.1, 0.2]\n",
    "\n",
    "a1 = W1 @ input\n",
    "\n",
    "a1 = [0.22 0.14 0.12 0.15] # (4,1)\n",
    "\n",
    "z1 = relu(a1) = np.maximum(0, a1) # so there will be same\n",
    "\n",
    "zi = [0.22 0.14 0.12 0.15] # (4,1)\n",
    "\n",
    "add bias [1.0]\n",
    "\n",
    "zi_aug = [1.   0.22 0.14 0.12 0.15] # (5,1)\n",
    "\n",
    "output = W2 @ zi_aug"
   ]
  },
  {
   "cell_type": "code",
   "execution_count": 18,
   "metadata": {},
   "outputs": [
    {
     "name": "stdout",
     "output_type": "stream",
     "text": [
      "=== Activation Function: leaky_relu ===\n",
      "Input x (with bias):\n",
      " [[1.  0.5 0.2 0.1]]\n",
      "Hidden pre-activation a1:\n",
      " [[0.22 0.14 0.12 0.15]]\n",
      "Hidden activation z1:\n",
      " [[0.22 0.14 0.12 0.15]]\n",
      "Hidden layer with bias z1_aug:\n",
      " [[1.   0.22 0.14 0.12 0.15]]\n",
      "Final output y:\n",
      " [[ 0.327 -0.052]]\n"
     ]
    }
   ],
   "source": [
    "test_activation(leaky_relu)"
   ]
  }
 ],
 "metadata": {
  "kernelspec": {
   "display_name": "ml",
   "language": "python",
   "name": "python3"
  },
  "language_info": {
   "codemirror_mode": {
    "name": "ipython",
    "version": 3
   },
   "file_extension": ".py",
   "mimetype": "text/x-python",
   "name": "python",
   "nbconvert_exporter": "python",
   "pygments_lexer": "ipython3",
   "version": "3.10.16"
  }
 },
 "nbformat": 4,
 "nbformat_minor": 2
}
