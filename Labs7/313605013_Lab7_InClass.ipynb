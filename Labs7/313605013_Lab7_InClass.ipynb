{
 "cells": [
  {
   "cell_type": "code",
   "execution_count": 1,
   "id": "f1e33405",
   "metadata": {},
   "outputs": [],
   "source": [
    "import torch\n",
    "import matplotlib.pyplot as plt"
   ]
  },
  {
   "cell_type": "code",
   "execution_count": 2,
   "id": "ded61852",
   "metadata": {},
   "outputs": [
    {
     "data": {
      "text/plain": [
       "<torch._C.Generator at 0x11fca01f0>"
      ]
     },
     "execution_count": 2,
     "metadata": {},
     "output_type": "execute_result"
    }
   ],
   "source": [
    "# 1. Vocabulary\n",
    "vocab = { \"The\": 0, \"movie\": 1, \"is\": 2, \"good\": 3, \"bad\": 4}\n",
    "def word_to_onehot(word):\n",
    "    vec = torch.zeros(len(vocab), 1)\n",
    "    vec[vocab[word]] = 1.0\n",
    "    return vec\n",
    "\n",
    "# 2. Training Samples\n",
    "train_data = [\n",
    "    ([\"The\", \"movie\", \"is\", \"good\"], 1),\n",
    "    ([\"The\", \"movie\", \"is\", \"bad\"], 0)\n",
    "]\n",
    "\n",
    "# 3. Define RNN Parameters\n",
    "n = 2 # hidden size\n",
    "m = len(vocab)\n",
    "T = 4 # number of words\n",
    "torch.manual_seed(42)"
   ]
  },
  {
   "cell_type": "code",
   "execution_count": 3,
   "id": "2bae2ce0",
   "metadata": {},
   "outputs": [],
   "source": [
    "# Initialize Weights (n x n), (n x m), (n x 1), (2 x n), (2 x 1)\n",
    "W = torch.randn(n, n, requires_grad=True)\n",
    "U = torch.randn(n, m, requires_grad=True)\n",
    "b = torch.randn(n, 1, requires_grad=True)\n",
    "\n",
    "W_out = torch.randn(2, n,   requires_grad=True)\n",
    "b_out = torch.randn(2, 1,   requires_grad=True)"
   ]
  },
  {
   "cell_type": "code",
   "execution_count": 4,
   "id": "69428c2b",
   "metadata": {},
   "outputs": [
    {
     "name": "stdout",
     "output_type": "stream",
     "text": [
      "Epoch [50/300] - Loss: 0.0848\n",
      "Epoch [100/300] - Loss: 0.0451\n",
      "Epoch [150/300] - Loss: 0.0309\n",
      "Epoch [200/300] - Loss: 0.0236\n",
      "Epoch [250/300] - Loss: 0.0191\n",
      "Epoch [300/300] - Loss: 0.0160\n"
     ]
    }
   ],
   "source": [
    "# 4. Training Setup\n",
    "learning_rate = 0.1\n",
    "num_epochs = 300\n",
    "loss_fn = torch.nn.CrossEntropyLoss()\n",
    "loss_history = []\n",
    "\n",
    "# 5. Training Loop\n",
    "for epoch in range(num_epochs):\n",
    "    total_loss = 0.0\n",
    "\n",
    "    for sentence, label in train_data:\n",
    "        inputs = [word_to_onehot(word) for word in sentence]\n",
    "        s_prev = torch.zeros(n, 1)\n",
    "        \n",
    "        for x_t in inputs:\n",
    "            # TODO: Compute s_t\n",
    "            s_t = torch.tanh( W @ s_prev + U @ x_t + b ) # TODO\n",
    "            s_prev = s_t\n",
    "        \n",
    "        # Output layer\n",
    "        logits = W_out @ s_prev + b_out # TODO\n",
    "        logits = logits.view(1, -1)\n",
    "        \n",
    "        # Loss\n",
    "        target = torch.tensor([label])\n",
    "        loss = loss_fn(logits, target)\n",
    "        total_loss += loss.item()\n",
    "        \n",
    "        # Backwark\n",
    "        loss.backward()\n",
    "        \n",
    "        # Manul update(SGD)\n",
    "        with torch.no_grad():\n",
    "            # TODO: Update W, U, b, W_out, b_out\n",
    "            W -= learning_rate * W.grad\n",
    "            U -= learning_rate * U.grad\n",
    "            b -= learning_rate * b.grad\n",
    "            W_out -= learning_rate * W_out.grad\n",
    "            b_out -= learning_rate * b_out.grad\n",
    "        \n",
    "            # Zero grandients after updating\n",
    "            W.grad.zero_()\n",
    "            U.grad.zero_()\n",
    "            b.grad.zero_()\n",
    "            W_out.grad.zero_()\n",
    "            b_out.grad.zero_()\n",
    "        \n",
    "    loss_history.append(loss.item())\n",
    "\n",
    "    if (epoch + 1) % 50 == 0:\n",
    "        print(f\"Epoch [{epoch+1}/{num_epochs}] - Loss: {total_loss:.4f}\")"
   ]
  },
  {
   "cell_type": "code",
   "execution_count": 5,
   "id": "8d46e07b",
   "metadata": {},
   "outputs": [
    {
     "data": {
      "image/png": "[encoded data removed]",
      "text/plain": [
       "<Figure size 640x480 with 1 Axes>"
      ]
     },
     "metadata": {},
     "output_type": "display_data"
    }
   ],
   "source": [
    "# 6. Plot Loss\n",
    "plt.plot(loss_history)\n",
    "plt.xlabel(\"Epoch\")\n",
    "plt.ylabel(\"Total Loss\")\n",
    "plt.title(\"Training Loss Curve\")\n",
    "plt.grid(True)\n",
    "plt.show()"
   ]
  },
  {
   "cell_type": "code",
   "execution_count": 6,
   "id": "abaddb39",
   "metadata": {},
   "outputs": [
    {
     "name": "stdout",
     "output_type": "stream",
     "text": [
      "\n",
      "=== Testing ===\n",
      "Sentence: ['The', 'movie', 'is', 'bad'] ➔ Prediction: 0\n",
      "Sentence: ['The', 'movie', 'is', 'good'] ➔ Prediction: 1\n"
     ]
    }
   ],
   "source": [
    "# 7. Test After Training\n",
    "print(\"\\n=== Testing ===\")\n",
    "test_sentences = [\n",
    "    [\"The\", \"movie\", \"is\", \"bad\"],\n",
    "    [\"The\", \"movie\", \"is\", \"good\"]\n",
    "]\n",
    "\n",
    "for test_sentence in test_sentences:\n",
    "    inputs = [word_to_onehot(word) for word in test_sentence]\n",
    "    s_prev = torch.zeros(n, 1)\n",
    "    for x_t in inputs:\n",
    "        #Forward pass again (same as above)\n",
    "        s_t = torch.tanh( W @ s_prev + U @ x_t + b ) # TODO\n",
    "        s_prev = s_t\n",
    "\n",
    "    logits = W_out @ s_prev + b_out  # TODO\n",
    "    prediction = torch.argmax(logits)\n",
    "    print(f\"Sentence: {test_sentence} ➔ Prediction: {prediction.item()}\")"
   ]
  }
 ],
 "metadata": {
  "kernelspec": {
   "display_name": "ml",
   "language": "python",
   "name": "python3"
  },
  "language_info": {
   "codemirror_mode": {
    "name": "ipython",
    "version": 3
   },
   "file_extension": ".py",
   "mimetype": "text/x-python",
   "name": "python",
   "nbconvert_exporter": "python",
   "pygments_lexer": "ipython3",
   "version": "3.10.16"
  }
 },
 "nbformat": 4,
 "nbformat_minor": 5
}
